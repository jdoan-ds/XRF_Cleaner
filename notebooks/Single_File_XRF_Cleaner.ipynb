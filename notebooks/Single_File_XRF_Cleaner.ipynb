{
 "cells": [
  {
   "cell_type": "code",
   "execution_count": 1,
   "id": "1e03fd02-97af-43d4-b2d4-3f382f7711a6",
   "metadata": {},
   "outputs": [],
   "source": [
    "# ---- PRE-CHECK: Purge cursed variables ----\n",
    "try:\n",
    "    del pandas\n",
    "except:\n",
    "    pass\n"
   ]
  },
  {
   "cell_type": "code",
   "execution_count": 2,
   "id": "428e4706-3982-4999-a521-212045766f35",
   "metadata": {},
   "outputs": [],
   "source": [
    "# ---- Imports ----\n",
    "import pandas as pd"
   ]
  },
  {
   "cell_type": "code",
   "execution_count": 3,
   "id": "70b231ec-e140-4870-bded-2b042f975692",
   "metadata": {},
   "outputs": [],
   "source": [
    "# ---- Load Raw File ----\n",
    "df = pd.read_csv('raw_data.csv')  # Replace with your actual filename"
   ]
  },
  {
   "cell_type": "code",
   "execution_count": 4,
   "id": "28499e8f-852e-4389-9a1e-46dccd375f31",
   "metadata": {},
   "outputs": [],
   "source": [
    "# ---- Drop Empty Rows/Columns ----\n",
    "df.dropna(axis=0, how='all', inplace=True)\n",
    "df.dropna(axis=1, how='all', inplace=True)"
   ]
  },
  {
   "cell_type": "code",
   "execution_count": 5,
   "id": "4911dd1c-7647-4b8f-816a-8dba59a96534",
   "metadata": {},
   "outputs": [],
   "source": [
    "# ---- Clean Column Names ----\n",
    "df.columns = df.columns.str.strip()\n",
    "df = df.loc[:, ~df.columns.str.contains('^Unnamed')]"
   ]
  },
  {
   "cell_type": "code",
   "execution_count": 6,
   "id": "667f6816-a2e1-4bfb-b106-b9a07c485b98",
   "metadata": {},
   "outputs": [],
   "source": [
    "# ---- Convert wt% to ppm for Known Elements ----\n",
    "for element in ['Ca', 'K', 'Fe']:\n",
    "    if element in df.columns and df[element].max() < 1:\n",
    "        df[element + '_ppm'] = df[element] * 10000"
   ]
  },
  {
   "cell_type": "code",
   "execution_count": 7,
   "id": "801fbb46-0309-40ca-b53b-f015d9a0755c",
   "metadata": {},
   "outputs": [],
   "source": [
    "# ---- Handle Divide-by-Zero Risk in Denominator Columns ----\n",
    "for col in ['Al', 'Ti']:\n",
    "    if col in df.columns:\n",
    "        df[col] = df[col].replace(0, 0.0001)"
   ]
  },
  {
   "cell_type": "code",
   "execution_count": 8,
   "id": "841531a0-304a-4e90-90bd-0ceabdd56268",
   "metadata": {},
   "outputs": [],
   "source": [
    "# ---- Clip Outliers (1st - 99th Percentile) ----\n",
    "for col in df.select_dtypes(include=['float64', 'int64']).columns:\n",
    "    q_low = df[col].quantile(0.01)\n",
    "    q_hi = df[col].quantile(0.99)\n",
    "    df[col] = df[col].clip(lower=q_low, upper=q_hi)"
   ]
  },
  {
   "cell_type": "code",
   "execution_count": 9,
   "id": "42358c3c-5b7f-4d24-8e4c-3387a35f6790",
   "metadata": {},
   "outputs": [
    {
     "name": "stdout",
     "output_type": "stream",
     "text": [
      "✅ Cleaned file saved as 'processed_data.csv'\n"
     ]
    }
   ],
   "source": [
    "# ---- Save Processed File ----\n",
    "df.to_csv('processed_data.csv', index=False)\n",
    "print(\"✅ Cleaned file saved as 'processed_data.csv'\")"
   ]
  }
 ],
 "metadata": {
  "kernelspec": {
   "display_name": "Python 3 (ipykernel)",
   "language": "python",
   "name": "python3"
  },
  "language_info": {
   "codemirror_mode": {
    "name": "ipython",
    "version": 3
   },
   "file_extension": ".py",
   "mimetype": "text/x-python",
   "name": "python",
   "nbconvert_exporter": "python",
   "pygments_lexer": "ipython3",
   "version": "3.12.7"
  }
 },
 "nbformat": 4,
 "nbformat_minor": 5
}
